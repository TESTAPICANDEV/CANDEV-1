{
 "cells": [
  {
   "cell_type": "code",
   "execution_count": 29,
   "metadata": {},
   "outputs": [],
   "source": [
    "import PyPDF2 \n",
    "import textract\n",
    "from nltk.tokenize import word_tokenize\n",
    "from nltk.corpus import stopwords\n",
    "import pandas as pd\n",
    "path=\"C:\\\\Users\\\\zemdy\\\\Desktop\\CanDev\\\\\""
   ]
  },
  {
   "cell_type": "code",
   "execution_count": 24,
   "metadata": {},
   "outputs": [],
   "source": [
    "filename=\"C:\\\\Users\\\\zemdy\\\\Desktop\\CanDev\\\\A95996-1_Letter_of_Comment_-_A6K8H5.pdf\""
   ]
  },
  {
   "cell_type": "code",
   "execution_count": 7,
   "metadata": {},
   "outputs": [],
   "source": [
    "pdfFileObj = open(filename,'rb')"
   ]
  },
  {
   "cell_type": "code",
   "execution_count": 8,
   "metadata": {},
   "outputs": [],
   "source": [
    "pdfReader = PyPDF2.PdfFileReader(pdfFileObj)"
   ]
  },
  {
   "cell_type": "code",
   "execution_count": 9,
   "metadata": {},
   "outputs": [],
   "source": [
    "num_pages = pdfReader.numPages\n",
    "count = 0\n",
    "text = \"\""
   ]
  },
  {
   "cell_type": "code",
   "execution_count": 12,
   "metadata": {},
   "outputs": [],
   "source": [
    "while count < num_pages:\n",
    "    pageObj = pdfReader.getPage(count)\n",
    "    count +=1\n",
    "    text += pageObj.extractText()\n",
    "#This if statement exists to check if the above library returned #words. It's done because PyPDF2 cannot read scanned files.\n",
    "if text != \"\":\n",
    "    \n",
    "    text = text\n",
    "#If the above returns as False, we run the OCR library textract to #convert scanned/image based PDF files into text\n",
    "else:\n",
    "    text = textract.process(fileurl, method='tesseract', language='eng')"
   ]
  },
  {
   "cell_type": "code",
   "execution_count": 20,
   "metadata": {},
   "outputs": [
    {
     "name": "stderr",
     "output_type": "stream",
     "text": [
      "[nltk_data] Downloading package stopwords to\n",
      "[nltk_data]     C:\\Users\\zemdy\\AppData\\Roaming\\nltk_data...\n",
      "[nltk_data]   Unzipping corpora\\stopwords.zip.\n"
     ]
    },
    {
     "data": {
      "text/plain": [
       "True"
      ]
     },
     "execution_count": 20,
     "metadata": {},
     "output_type": "execute_result"
    }
   ],
   "source": [
    "#nltk.download('punkt')\n",
    "nltk.download('stopwords')"
   ]
  },
  {
   "cell_type": "code",
   "execution_count": 21,
   "metadata": {},
   "outputs": [],
   "source": [
    "#The word_tokenize() function will break our text phrases into #individual words\n",
    "tokens = word_tokenize(text)\n",
    "#we'll create a new list which contains punctuation we wish to clean\n",
    "punctuations = ['(',')',';',':','[',']',',']\n",
    "#We initialize the stopwords variable which is a list of words like #\"The\", \"I\", \"and\", etc. that don't hold much value as keywords\n",
    "stop_words = stopwords.words('english')\n",
    "#We create a list comprehension which only returns a list of words #that are NOT IN stop_words and NOT IN punctuations.\n",
    "keywords = [word for word in tokens if not word in stop_words and not word in punctuations]"
   ]
  },
  {
   "cell_type": "code",
   "execution_count": 129,
   "metadata": {},
   "outputs": [],
   "source": [
    "\n",
    "project=pd.read_csv(path+\"projects.csv\")"
   ]
  },
  {
   "cell_type": "code",
   "execution_count": 78,
   "metadata": {},
   "outputs": [],
   "source": [
    "concern[\"Writer Type\"]=writer"
   ]
  },
  {
   "cell_type": "code",
   "execution_count": 79,
   "metadata": {},
   "outputs": [
    {
     "data": {
      "text/html": [
       "<div>\n",
       "<style scoped>\n",
       "    .dataframe tbody tr th:only-of-type {\n",
       "        vertical-align: middle;\n",
       "    }\n",
       "\n",
       "    .dataframe tbody tr th {\n",
       "        vertical-align: top;\n",
       "    }\n",
       "\n",
       "    .dataframe thead th {\n",
       "        text-align: right;\n",
       "    }\n",
       "</style>\n",
       "<table border=\"1\" class=\"dataframe\">\n",
       "  <thead>\n",
       "    <tr style=\"text-align: right;\">\n",
       "      <th></th>\n",
       "      <th>Writer Type</th>\n",
       "      <th>Writer's Location</th>\n",
       "      <th>Relevant Project Name</th>\n",
       "      <th>Subject/Theme</th>\n",
       "    </tr>\n",
       "  </thead>\n",
       "  <tbody>\n",
       "    <tr>\n",
       "      <td>0</td>\n",
       "      <td>Citezen</td>\n",
       "      <td>British Columbi</td>\n",
       "      <td>Trans Mountain Expansion Project</td>\n",
       "      <td>Integrity</td>\n",
       "    </tr>\n",
       "    <tr>\n",
       "      <td>1</td>\n",
       "      <td>Dr</td>\n",
       "      <td>Ontario</td>\n",
       "      <td>Edson Mainline Expansion Project</td>\n",
       "      <td>Environment</td>\n",
       "    </tr>\n",
       "    <tr>\n",
       "      <td>2</td>\n",
       "      <td>Council</td>\n",
       "      <td>Alberta</td>\n",
       "      <td>Northern Corridor Expansion Project</td>\n",
       "      <td>Standard Condition</td>\n",
       "    </tr>\n",
       "    <tr>\n",
       "      <td>3</td>\n",
       "      <td>Citezen</td>\n",
       "      <td>British Columbi</td>\n",
       "      <td>Trans Mountain Expansion Project</td>\n",
       "      <td>Integrity</td>\n",
       "    </tr>\n",
       "    <tr>\n",
       "      <td>4</td>\n",
       "      <td>Dr</td>\n",
       "      <td>Ontario</td>\n",
       "      <td>Edson Mainline Expansion Project</td>\n",
       "      <td>Environment</td>\n",
       "    </tr>\n",
       "    <tr>\n",
       "      <td>...</td>\n",
       "      <td>...</td>\n",
       "      <td>...</td>\n",
       "      <td>...</td>\n",
       "      <td>...</td>\n",
       "    </tr>\n",
       "    <tr>\n",
       "      <td>298</td>\n",
       "      <td>Dr</td>\n",
       "      <td>Ontario</td>\n",
       "      <td>Edson Mainline Expansion Project</td>\n",
       "      <td>Environment</td>\n",
       "    </tr>\n",
       "    <tr>\n",
       "      <td>299</td>\n",
       "      <td>Council</td>\n",
       "      <td>Alberta</td>\n",
       "      <td>Northern Corridor Expansion Project</td>\n",
       "      <td>Standard Condition</td>\n",
       "    </tr>\n",
       "    <tr>\n",
       "      <td>300</td>\n",
       "      <td>Citezen</td>\n",
       "      <td>British Columbi</td>\n",
       "      <td>Trans Mountain Expansion Project</td>\n",
       "      <td>Integrity</td>\n",
       "    </tr>\n",
       "    <tr>\n",
       "      <td>301</td>\n",
       "      <td>Dr</td>\n",
       "      <td>Ontario</td>\n",
       "      <td>Edson Mainline Expansion Project</td>\n",
       "      <td>Environment</td>\n",
       "    </tr>\n",
       "    <tr>\n",
       "      <td>302</td>\n",
       "      <td>Council</td>\n",
       "      <td>Alberta</td>\n",
       "      <td>Northern Corridor Expansion Project</td>\n",
       "      <td>Standard Condition</td>\n",
       "    </tr>\n",
       "  </tbody>\n",
       "</table>\n",
       "<p>303 rows × 4 columns</p>\n",
       "</div>"
      ],
      "text/plain": [
       "    Writer Type Writer's Location                Relevant Project Name  \\\n",
       "0       Citezen   British Columbi    Trans Mountain Expansion Project    \n",
       "1            Dr           Ontario     Edson Mainline Expansion Project   \n",
       "2       Council           Alberta  Northern Corridor Expansion Project   \n",
       "3       Citezen   British Columbi    Trans Mountain Expansion Project    \n",
       "4            Dr           Ontario     Edson Mainline Expansion Project   \n",
       "..          ...               ...                                  ...   \n",
       "298          Dr           Ontario     Edson Mainline Expansion Project   \n",
       "299     Council           Alberta  Northern Corridor Expansion Project   \n",
       "300     Citezen   British Columbi    Trans Mountain Expansion Project    \n",
       "301          Dr           Ontario     Edson Mainline Expansion Project   \n",
       "302     Council           Alberta  Northern Corridor Expansion Project   \n",
       "\n",
       "          Subject/Theme  \n",
       "0             Integrity  \n",
       "1           Environment  \n",
       "2    Standard Condition  \n",
       "3             Integrity  \n",
       "4           Environment  \n",
       "..                  ...  \n",
       "298         Environment  \n",
       "299  Standard Condition  \n",
       "300           Integrity  \n",
       "301         Environment  \n",
       "302  Standard Condition  \n",
       "\n",
       "[303 rows x 4 columns]"
      ]
     },
     "execution_count": 79,
     "metadata": {},
     "output_type": "execute_result"
    }
   ],
   "source": [
    "concern.append([concern]*100,ignore_index=True)"
   ]
  },
  {
   "cell_type": "code",
   "execution_count": 59,
   "metadata": {},
   "outputs": [],
   "source": [
    "import numpy as np\n",
    "concern1=pd.DataFrame()\n",
    "concern1['HS_FIRST_NAME'] = np.random.permutation(concern['Writer Type'].values)"
   ]
  },
  {
   "cell_type": "code",
   "execution_count": 82,
   "metadata": {},
   "outputs": [],
   "source": [
    "from sklearn.utils import shuffle\n",
    "concern1=shuffle(concern['Writer Type'])"
   ]
  },
  {
   "cell_type": "code",
   "execution_count": 83,
   "metadata": {},
   "outputs": [
    {
     "data": {
      "text/plain": [
       "0    Citezen\n",
       "1         Dr\n",
       "2    Council\n",
       "Name: Writer Type, dtype: object"
      ]
     },
     "execution_count": 83,
     "metadata": {},
     "output_type": "execute_result"
    }
   ],
   "source": [
    "concern1"
   ]
  },
  {
   "cell_type": "code",
   "execution_count": 136,
   "metadata": {},
   "outputs": [],
   "source": [
    "writer=['Individuals','Academy', 'First Nation','Government','Energy Company']\n",
    "location=['British Columbia','Alberta','Ontario','Manitoba']\n",
    "Relevant=['Trans Mountain Expansion Project','Edson Mainline Expansion Project','Northern Corridor Expansion Project']\n",
    "Theme=['Environment','Standard Condition','Integrity']"
   ]
  },
  {
   "cell_type": "code",
   "execution_count": 91,
   "metadata": {},
   "outputs": [
    {
     "data": {
      "text/html": [
       "<div>\n",
       "<style scoped>\n",
       "    .dataframe tbody tr th:only-of-type {\n",
       "        vertical-align: middle;\n",
       "    }\n",
       "\n",
       "    .dataframe tbody tr th {\n",
       "        vertical-align: top;\n",
       "    }\n",
       "\n",
       "    .dataframe thead th {\n",
       "        text-align: right;\n",
       "    }\n",
       "</style>\n",
       "<table border=\"1\" class=\"dataframe\">\n",
       "  <thead>\n",
       "    <tr style=\"text-align: right;\">\n",
       "      <th></th>\n",
       "      <th>Writer Type</th>\n",
       "      <th>Writer's Location</th>\n",
       "      <th>Relevant Project Name</th>\n",
       "      <th>Subject/Theme</th>\n",
       "    </tr>\n",
       "  </thead>\n",
       "  <tbody>\n",
       "    <tr>\n",
       "      <td>1</td>\n",
       "      <td>Dr</td>\n",
       "      <td>Ontario</td>\n",
       "      <td>Edson Mainline Expansion Project</td>\n",
       "      <td>Environment</td>\n",
       "    </tr>\n",
       "    <tr>\n",
       "      <td>2</td>\n",
       "      <td>Council</td>\n",
       "      <td>Alberta</td>\n",
       "      <td>Northern Corridor Expansion Project</td>\n",
       "      <td>Standard Condition</td>\n",
       "    </tr>\n",
       "    <tr>\n",
       "      <td>0</td>\n",
       "      <td>Citezen</td>\n",
       "      <td>British Columbi</td>\n",
       "      <td>Trans Mountain Expansion Project</td>\n",
       "      <td>Integrity</td>\n",
       "    </tr>\n",
       "  </tbody>\n",
       "</table>\n",
       "</div>"
      ],
      "text/plain": [
       "  Writer Type Writer's Location                Relevant Project Name  \\\n",
       "1          Dr           Ontario     Edson Mainline Expansion Project   \n",
       "2     Council           Alberta  Northern Corridor Expansion Project   \n",
       "0     Citezen   British Columbi    Trans Mountain Expansion Project    \n",
       "\n",
       "        Subject/Theme  \n",
       "1         Environment  \n",
       "2  Standard Condition  \n",
       "0           Integrity  "
      ]
     },
     "execution_count": 91,
     "metadata": {},
     "output_type": "execute_result"
    }
   ],
   "source": [
    "concern.sample(frac=1)"
   ]
  },
  {
   "cell_type": "code",
   "execution_count": 137,
   "metadata": {},
   "outputs": [],
   "source": [
    "i=0\n",
    "import random\n",
    "concern1=pd.DataFrame()\n",
    "concern=pd.DataFrame()\n",
    "while i < 101:\n",
    "    concern1['Writer Type']=[random.choice(writer)]\n",
    "    concern1['Writer Location']=[random.choice(location)]\n",
    "    concern1['Relavant Project Name']=[random.choice(Relevant)]\n",
    "    concern1['Theme']=[random.choice(Theme)]\n",
    "    concern=concern.append(concern1)\n",
    "    i=i+1\n",
    "    "
   ]
  },
  {
   "cell_type": "code",
   "execution_count": 117,
   "metadata": {},
   "outputs": [],
   "source": [
    "concern1=pd.DataFrame()\n",
    "concern1['Writer Type']=['dr']"
   ]
  },
  {
   "cell_type": "code",
   "execution_count": 135,
   "metadata": {},
   "outputs": [
    {
     "data": {
      "text/plain": [
       "array(['Alberta', 'British Columbia', 'Manitoba', 'Ontario'], dtype=object)"
      ]
     },
     "execution_count": 135,
     "metadata": {},
     "output_type": "execute_result"
    }
   ],
   "source": [
    "concern['Writer Location'].unique()"
   ]
  },
  {
   "cell_type": "code",
   "execution_count": 138,
   "metadata": {},
   "outputs": [],
   "source": [
    "Merged=pd.merge(concern,project, left_on=('Relavant Project Name'),right_on=('File Name'), how='inner')"
   ]
  },
  {
   "cell_type": "code",
   "execution_count": 139,
   "metadata": {},
   "outputs": [],
   "source": [
    "Merged.to_csv(path+ \"LetterofConcern.csv\",index=False, encoding='utf-8')"
   ]
  },
  {
   "cell_type": "code",
   "execution_count": null,
   "metadata": {},
   "outputs": [],
   "source": []
  }
 ],
 "metadata": {
  "kernelspec": {
   "display_name": "Python 3",
   "language": "python",
   "name": "python3"
  },
  "language_info": {
   "codemirror_mode": {
    "name": "ipython",
    "version": 3
   },
   "file_extension": ".py",
   "mimetype": "text/x-python",
   "name": "python",
   "nbconvert_exporter": "python",
   "pygments_lexer": "ipython3",
   "version": "3.7.4"
  }
 },
 "nbformat": 4,
 "nbformat_minor": 2
}
